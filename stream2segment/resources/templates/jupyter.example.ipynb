{
 "cells": [
  {
   "cell_type": "markdown",
   "metadata": {},
   "source": [
    "# Stream2segment notebook examples\n",
    "\n",
    "To (re)run this notebook with no modifications (e.g., using the example database below) on your computer, it is assumed that you opened it from the directory created with the `s2s init` command\n",
    "\n",
    "\n",
    "## Table of contents\n",
    "- [Database data overview](#databaseoverview)\n",
    "    - [The Segment object](#segment_object)\n",
    "    - [Related objects](#related_objects)\n",
    "- [Working with ObsPy](#obspy)\n",
    "- [Selection of segments via simplified expressions](#selexpr)\n",
    "- [Selection expression cheatsheet](#selexpr_cheatsheet)\n",
    "   - [Examples](#selexpr_examples)\n",
    "   - [Selectable segment (and related objects) attributes](#selectable_attributes)"
   ]
  },
  {
   "cell_type": "markdown",
   "metadata": {},
   "source": [
    "## Processing segments<a name=\"selexpr\"></a>\n",
    "\n",
    "Stream2segment has two main processing functions, i.e. functions whose purpose is to fetch segments from the database, run some custom code on them, and produce the desired output. These functions are `process` and `imap`:"
   ]
  },
  {
   "cell_type": "code",
   "execution_count": 1,
   "metadata": {},
   "outputs": [],
   "source": [
    "from stream2segment.process import process, imap"
   ]
  },
  {
   "cell_type": "markdown",
   "metadata": {},
   "source": [
    "In their base form, both functions accept the following arguments (type `help(process)` or `help(imap)` for details):\n",
    "\n",
    "```python\n",
    "process(pyfunc, dburl, segments_selection, config, output, ...)\n",
    "```\n",
    "\n",
    "```python\n",
    "imap(pyfunc, dburl, segments_selection, config, ...)\n",
    "```\n",
    "where\n",
    "\n",
    "- `pyfunc` is the processing fucntion (Python function): `pyfunc(segment, config)`\n",
    "- `dburl` is the database (db) URL\n",
    "- `segments_selection` is the selection of desired segments from the given db\n",
    "- `config` is an optional dict to be passed to the processing function"
   ]
  },
  {
   "cell_type": "markdown",
   "metadata": {},
   "source": [
    "```python\n",
    "process(python_function, dburl, segments_selection, output)\n",
    "```\n"
   ]
  },
  {
   "cell_type": "code",
   "execution_count": 2,
   "metadata": {},
   "outputs": [
    {
     "name": "stdout",
     "output_type": "stream",
     "text": [
      "Help on function imap in module stream2segment.process.main:\n",
      "\n",
      "imap(pyfunc, dburl, segments_selection=None, config=None, logfile='', verbose=False, multi_process=False, chunksize=None, skip_exceptions=None)\n",
      "    Return an iterator that applies the function `pyfunc` to every segment\n",
      "    found on the database at the URL `dburl`, processing only segments matching\n",
      "    the given selection (`segments_selection`), yielding the results in the form\n",
      "    of the tuple:\n",
      "    ```\n",
      "        (output:Any, segment_id:int)\n",
      "    ```\n",
      "    (where output is the return value of `pyfunc`)\n",
      "    \n",
      "    :param pyfunc: a Python function with signature (= accepting arguments):\n",
      "        `(segment:Segment, config:dict)`. The first argument is the segment\n",
      "        object which will be automatically passed from this function\n",
      "    :param dburl: the database URL. Supported formats are Sqlite and Postgres\n",
      "        (See https://docs.sqlalchemy.org/en/14/core/engines.html#database-urls).\n",
      "    :param segments_selection: The segments to be processed. It can be a numeric array\n",
      "        of integers denoting the segment IDs, or a dict[str, str] of Segments attributes\n",
      "        mapped to a given selection expression, e.g.:\n",
      "        ```\n",
      "        {\n",
      "            'event.magnitude': '<=6',\n",
      "            'channel.channel': 'HHZ',\n",
      "            'maxgap_numsamples': '(-0.5, 0.5)',\n",
      "            'has_data': 'true'\n",
      "        }\n",
      "        ```\n",
      "        (the last two keys assure segments with no gaps, and with data.\n",
      "        'has_data': 'true' is basically a default to be provided in most cases)\n",
      "    :param config: dict of additional needed arguments to be passed to `pyfunc`,\n",
      "        usually defining configuration parameters\n",
      "    :param skip_exceptions: tuple of Python exceptions that will not interrupt the whole\n",
      "        execution but will be logged to file, with the relative segment id. When missing\n",
      "        or None, it defaults to :class:`stream2segmetn.process.SkipExeption`\n",
      "    :param logfile: string. When not empty, it denotes the path of the log file\n",
      "        where exceptions will be logged, with the relative segment id\n",
      "    :param verbose: print progress bar to standard output (usually, the terminal\n",
      "        window) and estimated remaining time\n",
      "    :param multi_process: enable multi process (parallel sub-processes) to speed up\n",
      "        execution. When not boolean, this parameter can be an integer denoting the\n",
      "        exact number of subprocesses to be allocated (only for advanced users. True is\n",
      "        fine in most cases). If multi process is on `pyfunc` must be pickable\n",
      "        (https://docs.python.org/3/library/pickle.html#pickle-picklable)\n",
      "    :param chunksize: the size, in number of segments, of each chunk of data that will\n",
      "        be loaded from the database. Increasing this number speeds up the load but also\n",
      "        increases memory consumption. None (the default) means: set size automatically\n",
      "\n"
     ]
    }
   ],
   "source": [
    "help(imap)"
   ]
  },
  {
   "cell_type": "markdown",
   "metadata": {},
   "source": [
    "## Selection of segments via simplified expressions<a name=\"selexpr\"></a>\n",
    "\n",
    "Stream2segment offers the advantage of a simple selection of database segments with no need to dig into the functions of the [Object-Relational Mapping (ORM) Python library](https://www.sqlalchemy.org/) which is used under the hood to communicate with the database. The latter has the benefit of exposing each segment as a simple Python object called `Segment`. The selection of suitable segments is performed by creating a `dict` mapping one or more Segment attributes to a selection expression for that attribute: "
   ]
  },
  {
   "cell_type": "code",
   "execution_count": 3,
   "metadata": {},
   "outputs": [
    {
     "name": "stdout",
     "output_type": "stream",
     "text": [
      "1\n",
      "2\n"
     ]
    }
   ],
   "source": [
    "from stream2segment.process import Segment, get_segments\n",
    "from sqlalchemy.orm import load_only\n",
    "\n",
    "# The database URL should be the parameter 'dburl' of the download configuration file.\n",
    "# Here we use an example database (2 segments) provided in the same directory of this notebook:\n",
    "import os\n",
    "dburl = 'sqlite:///' + os.path.join(os.getcwd(), 'jupyter.example.db')\n",
    "\n",
    "# create the selection dict:\n",
    "segments_selection = {\n",
    "  'has_data': 'true',\n",
    "  'maxgap_numsamples': '[-0.5, 0.5]',\n",
    "  'event_distance_deg': '[20, 90]'\n",
    "  # other optional attributes (see cheatsheet below for details):\n",
    "  # missing_data_sec: '<120'\n",
    "  # missing_data_ratio: '<0.5'\n",
    "  # id: '<300'\n",
    "  # event.time: \"(2014-01-01T00:00:00, 2014-12-31T23:59:59)\"\n",
    "  # event.latitude: \"[24, 70]\"\n",
    "  # event.longitude: \"[-11, 24]\"\n",
    "}\n",
    "\n",
    "\n",
    "for seg in get_segments(dburl, segments_selection):\n",
    "    # seg is our Segment instance, let's print its id:\n",
    "    print(seg.id)"
   ]
  },
  {
   "cell_type": "markdown",
   "metadata": {},
   "source": [
    "## Segment selection cheatsheet<a name='selexpr_cheatsheet'></a>\n",
    "\n",
    "As described above, each segment is exposed to the user as a simple Python object with the following attributes. Each attribute can be used to select specific segments, as illustrateed above, or to access the segment properties:\n",
    "\n",
    "### Syntax <a name='selexpr_examples'></a>\n",
    "\n",
    "```python\n",
    "segments_selection: {\n",
    "  \"[attribute]\": \"[expression]\",\n",
    "  \"[attribute]\": \"[expression]\",\n",
    "  ...\n",
    "}\n",
    "```\n",
    "(segments_selection is just a convention, as any Python variable name you can use the one you want)\n",
    "\n",
    "Example:\n",
    "\n",
    "1. Not all segments on the database have waveform data. This might happen for several reason (server error, connection error and so on). As such, **in most cases you might probably want to work with segments with waveform data** (at least one byte of data):\n",
    "```python\n",
    "{\"has_data\": \"true\"}\n",
    "```\n",
    "2. To select and work on segments of stations activated in 2017 only:\n",
    "```python\n",
    "{\"station.start_time\": \"[2017-01-01, 2018-01-01T00:00:00)\"}\n",
    "```\n",
    "(brackets denote intervals. Square brackets include end-points, round brackets exclude endpoints)\n",
    "\n",
    "3. To select segments from specified ids, e.g. 1, 4, 342, 67 (e.g., ids which raised errors during\n",
    "   a previous run and whose id where logged might need inspection in the GUI):\n",
    "   segment_select:\n",
    "```python\n",
    "{\"id\": \"1 4 342 67\"}\n",
    "```\n",
    "\n",
    "4. To select segments whose event magnitude is greater than 4.2:\n",
    "```python\n",
    "{\"event.magnitude\": \">4.2\"}\n",
    "```\n",
    "(the same way work the operators: =, >=, <=, <, !=)\n",
    "\n",
    "5. To select segments with a particular channel sensor description:\n",
    "```python\n",
    "{\"channel.sensor_description\": \"'GURALP CMG-40T-30S'\"}\n",
    "```\n",
    "(note: for attributes with str values and spaces, we need to quote twice, as otherwise\n",
    "\"GURALP CMG-40T-30S\" would match 'GURALP' and 'CMG-40T-30S', but not the whole string.\n",
    "See attribute types below)\n",
    "\n",
    "\n",
    "### Selectable segment (and related objects) attributes <a name='selectable_attributes'></a>\n",
    "\n",
    "\n",
    "Attribute                    | Python type and (optional) description\n",
    ":----------------------------|:-------------------------------------------------------------\n",
    "id                           | int: segment (unique) db id\n",
    "event_distance_deg           | float: distance between the segment's station and<br>the event, in degrees\n",
    "event_distance_km            | float: distance between the segment's station and<br>the event, in km, assuming a perfectly spherical earth<br>with a radius of 6371 km\n",
    "start_time                   | datetime.datetime: the waveform data start time\n",
    "arrival_time                 | datetime.datetime: the station's arrival time of the waveform.<br>Value between 'start_time' and 'end_time'\n",
    "end_time                     | datetime.datetime: the waveform data end time\n",
    "request_start                | datetime.datetime: the requested start time of the data\n",
    "request_end                  | datetime.datetime: the requested end time of the data\n",
    "duration_sec                 | float: the waveform data duration, in seconds\n",
    "missing_data_sec             | float: the number of seconds of missing data, with respect<br>to the requested time window. It might also be negative<br>(more data received than requested). This parameter is useful<br>when selecting segments: e.g., if we requested 5<br>minutes of data and we want to process segments with at<br>least 4 minutes of downloaded data, then:<br>missing_data_sec: '< 60'\n",
    "missing_data_ratio           | float: the portion of missing data, with respect<br>to the request time window. It might also be negative<br>(more data received than requested). This parameter is useful<br>when selecting segments: e.g., if you want to process<br>segments whose real time window is at least 90% of the<br>requested one, then: missing_data_ratio: '< 0.1'\n",
    "sample_rate                  | float: the waveform data sample rate.<br>It might differ from the segment channel's sample_rate\n",
    "has_data                     | boolean: tells if the segment has data saved (at least<br>one byte of data). This parameter is useful when selecting<br>segments (in most cases, almost necessary), e.g.:<br>has_data: 'true'\n",
    "download_code                | int: the code reporting the segment download status. This<br>parameter is useful to further refine the segment selection<br>skipping beforehand segments with malformed data (code -2):<br>has_data: 'true'<br>download_code: '!=-2'<br>(All other codes are generally of no interest for the user.<br>However, for details see Table 2 in<br>https://doi.org/10.1785/0220180314#tb2)\n",
    "maxgap_numsamples            | float: the maximum gap or overlap found in the waveform data,<br>in number of points. If 0, the segment has no gaps/overlaps.<br>Otherwise, if >=1: the segment has gaps, if <=-1: the segment<br>has overlaps. Values in (-1, 1) are difficult to interpret: a<br>rule of thumb is to consider half a point a gap / overlap<br>(maxgap_numsamples > 0.5 or maxgap_numsamples < -0.5).<br>This parameter is useful when selecting segments: e.g.,<br>to select segments with no gaps/overlaps, then:<br>maxgap_numsamples: '(-0.5, 0.5)'\n",
    "seed_id                      | str: the seed identifier in the typical format<br>[Network].[Station].[Location].[Channel]. For segments<br>with waveform data, `data_seed_id` (see below) might be<br>faster to fetch.\n",
    "data_seed_id                 | str: same as 'segment.seed_id', but faster to get because it<br>reads the value stored in the waveform data. The drawback<br>is that this value is null for segments with no waveform data\n",
    "has_class                    | boolean: tells if the segment has (at least one) class<br>assigned\n",
    "data                         | bytes: the waveform (raw) data. Used by `segment.stream()`\n",
    "-----------------------------| ------------------------------------------------\n",
    "event                        | object (attributes below)\n",
    "event.id                     | int\n",
    "event.event_id               | str: the id returned by the web service or catalog\n",
    "event.time                   | datetime.datetime\n",
    "event.latitude               | float\n",
    "event.longitude              | float\n",
    "event.depth_km               | float\n",
    "event.author                 | str\n",
    "event.catalog                | str\n",
    "event.contributor            | str\n",
    "event.contributor_id         | str\n",
    "event.mag_type               | str\n",
    "event.magnitude              | float\n",
    "event.mag_author             | str\n",
    "event.event_location_name    | str\n",
    "-----------------------------| ------------------------------------------------\n",
    "channel                      | object (attributes below)\n",
    "channel.id                   | int\n",
    "channel.location             | str\n",
    "channel.channel              | str\n",
    "channel.depth                | float\n",
    "channel.azimuth              | float\n",
    "channel.dip                  | float\n",
    "channel.sensor_description   | str\n",
    "channel.scale                | float\n",
    "channel.scale_freq           | float\n",
    "channel.scale_units          | str\n",
    "channel.sample_rate          | float\n",
    "channel.band_code            | str: the first letter of channel.channel\n",
    "channel.instrument_code      | str: the second letter of channel.channel\n",
    "channel.orientation_code     | str: the third letter of channel.channel\n",
    "channel.station              | object: same as segment.station (see below)\n",
    "-----------------------------| ------------------------------------------------\n",
    "station                      | object (attributes below)\n",
    "station.id                   | int\n",
    "station.network              | str: the station's network code, e.g. 'AZ'\n",
    "station.station              | str: the station code, e.g. 'NHZR'\n",
    "station.netsta_code          | str: the network + station code, concatenated with<br>the dot, e.g.: 'AZ.NHZR'\n",
    "station.latitude             | float\n",
    "station.longitude            | float\n",
    "station.elevation            | float\n",
    "station.site_name            | str\n",
    "station.start_time           | datetime.datetime\n",
    "station.end_time             | datetime.datetime\n",
    "station.has_inventory        | boolean: tells if the segment's station inventory has<br>data saved (at least one byte of data).<br>This parameter is useful when selecting segments: e.g.,<br>to select only segments with inventory downloaded:<br>station.has_inventory: 'true'\n",
    "station.datacenter           | object (same as segment.datacenter, see below)\n",
    "-----------------------------| ------------------------------------------------\n",
    "datacenter                   | object (attributes below)\n",
    "datacenter.id                | int\n",
    "datacenter.station_url       | str\n",
    "datacenter.dataselect_url    | str\n",
    "datacenter.organization_name | str\n",
    "-----------------------------| ------------------------------------------------\n",
    "download                     | object (attributes below): the download execution\n",
    "download.id                  | int\n",
    "download.run_time            | datetime.datetime\n",
    "-----------------------------| ------------------------------------------------\n",
    "classes.id                   | int: the id(s) of the classes assigned to the segment\n",
    "classes.label                | int: the label(s) of the classes assigned to the segment\n",
    "classes.description          | int: the description(s) of the classes assigned to the<br>segment"
   ]
  },
  {
   "cell_type": "markdown",
   "metadata": {},
   "source": [
    "### The Segment object <a name='segment_object'></a>\n",
    "\n",
    "`get_segments`, when called with a string URL, opens a database session, yields selected segments and closes the session afterwards automatically. A [database session](https://docs.sqlalchemy.org/en/13/orm/session_basics.html) establishes all conversations with the\n",
    "database and represents a \"holding zone\"  for all the objects which you’ve loaded or associated with it during\n",
    "its lifespan. Closing a session is recommended after you finished your work as it releases memory on the computer and (if the db is remote) on the server, avoiding potential problems. After a session is closed, all segment objects are **detached** from the database, which means we can not access anymore all of its properties, but only those previously loaded.\n",
    "\n",
    "Calling `get_segments` and working within a loop is usually fine. However, in some cases (as in the remainder of this notebook), you might want to keep the session open. In this case, simply call `get_segments` with a session object instead of the `dburl`. The session can be manually closed at the end of your work:"
   ]
  },
  {
   "cell_type": "code",
   "execution_count": 20,
   "metadata": {},
   "outputs": [
    {
     "data": {
      "text/plain": [
       "True"
      ]
     },
     "execution_count": 20,
     "metadata": {},
     "output_type": "execute_result"
    }
   ],
   "source": [
    "from stream2segment.process import get_session, close_session\n",
    "session = get_session(dburl)\n",
    "# do your work ...\n",
    "close_session(session)"
   ]
  },
  {
   "cell_type": "markdown",
   "metadata": {},
   "source": [
    "So, let's open a new session and fetch the first segment, lewaving the session open"
   ]
  },
  {
   "cell_type": "code",
   "execution_count": 21,
   "metadata": {},
   "outputs": [],
   "source": [
    "from stream2segment.process import get_session\n",
    "seg = list(get_segments(session, segments_selection))[0]\n",
    "# close_session(session)  # <- (commented out, we do not want to close the session yet)"
   ]
  },
  {
   "cell_type": "markdown",
   "metadata": {},
   "source": [
    "Let's inspect the session object"
   ]
  },
  {
   "cell_type": "code",
   "execution_count": 22,
   "metadata": {
    "scrolled": false
   },
   "outputs": [
    {
     "name": "stdout",
     "output_type": "stream",
     "text": [
      "Segment\n",
      " attributes (17 of 17 loaded):\n",
      "  data_seed_id: GE.RUE..BH (str, 11 characters, showing first 10 only)\n",
      "  event_distance_deg: 88.40960422432707 (float)\n",
      "  data: b'808468D RU' (bytes, 9216 elements, showing first 10 only)\n",
      "  download_code: 200 (int)\n",
      "  start_time: 2017-09-08 05:00:00.495000 (datetime)\n",
      "  arrival_time: 2017-09-08 05:02:05.252870 (datetime)\n",
      "  end_time: 2017-09-08 05:04:12.245000 (datetime)\n",
      "  sample_rate: 20.0 (float)\n",
      "  maxgap_numsamples: 0.0 (float)\n",
      "  request_start: 2017-09-08 05:00:05 (datetime)\n",
      "  request_end: 2017-09-08 05:04:05 (datetime)\n",
      "  queryauth: False (bool)\n",
      "  event_id: 1 (int)\n",
      "  channel_id: 2 (int)\n",
      "  datacenter_id: 1 (int)\n",
      "  download_id: 2 (int)\n",
      "  id: 1 (int)\n",
      " related_objects (0 of 6 loaded):\n",
      "  event\n",
      "  channel\n",
      "  classes\n",
      "  datacenter\n",
      "  download\n",
      "  station\n"
     ]
    }
   ],
   "source": [
    "print(str(seg))"
   ]
  },
  {
   "cell_type": "markdown",
   "metadata": {},
   "source": [
    "Each attribute can be accessed as simple Python attribute:"
   ]
  },
  {
   "cell_type": "code",
   "execution_count": 23,
   "metadata": {},
   "outputs": [
    {
     "name": "stdout",
     "output_type": "stream",
     "text": [
      "Segment P-wave arrival time is 2017-09-08 05:02:05.252870\n"
     ]
    }
   ],
   "source": [
    "arrival_time = seg.arrival_time  # datetime.datetime object\n",
    "print('Segment P-wave arrival time is %s' % str(seg.arrival_time))"
   ]
  },
  {
   "cell_type": "markdown",
   "metadata": {},
   "source": [
    "Other accessible attributes not shown above are (for a complete list see [below](#selectable_attributes)):"
   ]
  },
  {
   "cell_type": "code",
   "execution_count": 24,
   "metadata": {},
   "outputs": [
    {
     "name": "stdout",
     "output_type": "stream",
     "text": [
      "0.0\n",
      "-11.75\n",
      "-0.04895833333333344\n",
      "251.75\n",
      "True\n",
      "9830.699456398519\n"
     ]
    }
   ],
   "source": [
    "print(seg.maxgap_numsamples)\n",
    "print(seg.missing_data_sec)\n",
    "print(seg.missing_data_ratio)\n",
    "print(seg.duration_sec)\n",
    "print(seg.has_data)\n",
    "print(seg.event_distance_km)"
   ]
  },
  {
   "cell_type": "markdown",
   "metadata": {},
   "source": [
    "### Related objects <a name='related_objects'></a>"
   ]
  },
  {
   "cell_type": "markdown",
   "metadata": {},
   "source": [
    "Each Segment has also a set of related Python objects easily accessible. Such a nice feature would be extremely complex to implement without a database, with waveforms and metadata stored as files on your comoputer. Let's inspect some related objects (these objects are loaded into memory only upon access, and therefore we need the db session to be open):\n",
    "\n",
    "`Event` object:"
   ]
  },
  {
   "cell_type": "code",
   "execution_count": 26,
   "metadata": {},
   "outputs": [
    {
     "name": "stdout",
     "output_type": "stream",
     "text": [
      "Event\n",
      " attributes (16 of 16 loaded):\n",
      "  event_id: 20170908_0 (str, 16 characters, showing first 10 only)\n",
      "  time: 2017-09-08 04:49:21.200000 (datetime)\n",
      "  latitude: 15.02 (float)\n",
      "  longitude: -93.81 (float)\n",
      "  depth_km: 72.0 (float)\n",
      "  author: EMSC (str)\n",
      "  catalog: EMSC-RTS (str)\n",
      "  contributor: EMSC (str)\n",
      "  contributor_id: 616600 (str)\n",
      "  mag_type: mw (str)\n",
      "  magnitude: 8.1 (float)\n",
      "  mag_author: EMSC (str)\n",
      "  event_location_name: OFFSHORE C (str, 24 characters, showing first 10 only)\n",
      "  event_type: None (NoneType)\n",
      "  webservice_id: 1 (int)\n",
      "  id: 1 (int)\n",
      " related_objects (0 of 1 loaded):\n",
      "  segments\n"
     ]
    }
   ],
   "source": [
    "evt = seg.event\n",
    "print(str(evt))"
   ]
  },
  {
   "cell_type": "markdown",
   "metadata": {},
   "source": [
    "Note that the event has the back-reference `segments`, which is a list of Segment objects because by design one segment is always related to one event, whereas one event generates many recordings at different stations, and thus is related to many segments. (be aware of potential memory problems when accessing huge lists of related objects. For details, see the section [Selection of segments via simplified expressions](#selexpr)).\n",
    "\n",
    "The same kind of \"segments relation\" holds for boith the `Station` and `Channel` objects (see below for details)."
   ]
  },
  {
   "cell_type": "markdown",
   "metadata": {},
   "source": [
    "`Station` object:"
   ]
  },
  {
   "cell_type": "code",
   "execution_count": 10,
   "metadata": {},
   "outputs": [
    {
     "name": "stdout",
     "output_type": "stream",
     "text": [
      "Station\n",
      " attributes (11 of 11 loaded):\n",
      "  network: GE (str)\n",
      "  station: RUE (str)\n",
      "  latitude: 52.4759 (float)\n",
      "  longitude: 13.78 (float)\n",
      "  elevation: 40.0 (float)\n",
      "  site_name: None (NoneType)\n",
      "  start_time: 2012-03-21 10:00:00 (datetime)\n",
      "  end_time: None (NoneType)\n",
      "  inventory_xml: b'\\x1f\\x8b\\x08\\x00\\xa4\\x99\\x1b\\\\\\x02\\xff' (bytes, 44710 elements, showing first 10 only)\n",
      "  datacenter_id: 1 (int)\n",
      "  id: 2 (int)\n",
      " related_objects (0 of 3 loaded):\n",
      "  datacenter\n",
      "  channels\n",
      "  segments\n"
     ]
    }
   ],
   "source": [
    "sta = seg.station\n",
    "print(str(sta))"
   ]
  },
  {
   "cell_type": "markdown",
   "metadata": {},
   "source": [
    "Other accessible attributes not shown above are (for a complete list see [below](#selectable_attributes)):"
   ]
  },
  {
   "cell_type": "code",
   "execution_count": 11,
   "metadata": {},
   "outputs": [
    {
     "name": "stdout",
     "output_type": "stream",
     "text": [
      "GE.RUE\n"
     ]
    }
   ],
   "source": [
    "print(sta.netsta_code)"
   ]
  },
  {
   "cell_type": "markdown",
   "metadata": {},
   "source": [
    "`Channel` object:"
   ]
  },
  {
   "cell_type": "code",
   "execution_count": 12,
   "metadata": {},
   "outputs": [
    {
     "name": "stdout",
     "output_type": "stream",
     "text": [
      "Channel\n",
      " attributes (12 of 12 loaded):\n",
      "  location:  (str)\n",
      "  channel: BHZ (str)\n",
      "  depth: 3.0 (float)\n",
      "  azimuth: 0.0 (float)\n",
      "  dip: -90.0 (float)\n",
      "  sensor_description: GFZ:GE1993 (str, 25 characters, showing first 10 only)\n",
      "  scale: 588000000.0 (float)\n",
      "  scale_freq: 0.02 (float)\n",
      "  scale_units: M/S (str)\n",
      "  sample_rate: 20.0 (float)\n",
      "  station_id: 2 (int)\n",
      "  id: 2 (int)\n",
      " related_objects (0 of 2 loaded):\n",
      "  station\n",
      "  segments\n"
     ]
    }
   ],
   "source": [
    "cha = seg.channel\n",
    "print(str(cha))"
   ]
  },
  {
   "cell_type": "markdown",
   "metadata": {},
   "source": [
    "Other accessible attributes not shown above are (for a complete list see [below](#selectable_attributes)):"
   ]
  },
  {
   "cell_type": "code",
   "execution_count": 13,
   "metadata": {},
   "outputs": [
    {
     "name": "stdout",
     "output_type": "stream",
     "text": [
      "B\n",
      "H\n",
      "Z\n"
     ]
    }
   ],
   "source": [
    "print(cha.band_code)\n",
    "print(cha.instrument_code)\n",
    "print(cha.orientation_code)"
   ]
  },
  {
   "cell_type": "markdown",
   "metadata": {},
   "source": [
    "## Working with ObsPy<a name='obspy'></a>\n",
    "\n",
    "Each segment waveform data is stored as bytes sequence in the `segment.data` attribute. However, you seldom need to access this attribute directly: `Stream2segment` defines shortcut methods to work with the relative ObsPy Objects.\n",
    "\n",
    "For instance, let's access the the ObsPy `Stream` representing the waveform data of our `seg` object fetched above:"
   ]
  },
  {
   "cell_type": "code",
   "execution_count": 14,
   "metadata": {
    "scrolled": true
   },
   "outputs": [
    {
     "name": "stdout",
     "output_type": "stream",
     "text": [
      "Trace data: [  196   211    94 ..., -2008 -1464 -1010]\n"
     ]
    }
   ],
   "source": [
    "# Get ObsPy Stream object\n",
    "stream = seg.stream()\n",
    "# a Stream is a collection of traces, let's take the first one and inspect it:\n",
    "trace = stream[0]\n",
    "print('Trace data: ' + str(trace.data))"
   ]
  },
  {
   "cell_type": "markdown",
   "metadata": {},
   "source": [
    "Now let's remove the instrumental response:"
   ]
  },
  {
   "cell_type": "code",
   "execution_count": 15,
   "metadata": {},
   "outputs": [
    {
     "name": "stdout",
     "output_type": "stream",
     "text": [
      "Trace data (response removed): [  5.82973528e-07   5.26137453e-07   5.78937133e-07 ...,  -7.80069136e-07\n",
      "  -1.14732931e-06  -6.83767823e-07]\n"
     ]
    }
   ],
   "source": [
    "# Get ObsPy Inventory object:\n",
    "inventory = seg.inventory()\n",
    "# remove the response:\n",
    "stream_remresp = stream.remove_response(inventory)\n",
    "trace_rr = stream_remresp[0]\n",
    "print('Trace data (response removed): ' + str(trace_rr.data))"
   ]
  },
  {
   "cell_type": "markdown",
   "metadata": {},
   "source": [
    "<b>Caveat</b>: The trace data has now been permanently modified. This is not due to Stream2segment but to a specific design choice of ObsPy. **In other words, `segment.stream()` from now returns `stream_remresp`** (the stream with the response removed!):"
   ]
  },
  {
   "cell_type": "code",
   "execution_count": 16,
   "metadata": {},
   "outputs": [
    {
     "name": "stdout",
     "output_type": "stream",
     "text": [
      "Trace data:[  5.82973528e-07   5.26137453e-07   5.78937133e-07 ...,  -7.80069136e-07\n",
      "  -1.14732931e-06  -6.83767823e-07]\n"
     ]
    }
   ],
   "source": [
    "stream = seg.stream()\n",
    "trace = stream[0]\n",
    "print('Trace data:' + str(trace.data))"
   ]
  },
  {
   "cell_type": "markdown",
   "metadata": {},
   "source": [
    "Note that, similar to `remove_response`, several other `Stream` and `Trace` methods permanently modify the underlying data (please refer to their ObsPy documentation before applying them). In all of these cases, to recover the original trace, there are two strategies:\n",
    "<p>\n",
    " 1] Reload the segment stream from the database with <code>segment.stream(reload=True)</code>"
   ]
  },
  {
   "cell_type": "code",
   "execution_count": 17,
   "metadata": {},
   "outputs": [
    {
     "name": "stdout",
     "output_type": "stream",
     "text": [
      "Trace data:[  196   211    94 ..., -2008 -1464 -1010]\n"
     ]
    }
   ],
   "source": [
    "stream = seg.stream(reload=True)\n",
    "trace= stream[0]\n",
    "print('Trace data:' + str(trace.data))"
   ]
  },
  {
   "cell_type": "markdown",
   "metadata": {},
   "source": [
    "2] (<i>recommended</i>) Preserve <code>segment.stream()</code> using remove_response on a stream copy"
   ]
  },
  {
   "cell_type": "code",
   "execution_count": 18,
   "metadata": {},
   "outputs": [
    {
     "name": "stdout",
     "output_type": "stream",
     "text": [
      "Trace data:[  196   211    94 ..., -2008 -1464 -1010]\n"
     ]
    }
   ],
   "source": [
    "stream_remresp = stream.copy().remove_response(inventory)\n",
    "trace = seg.stream()[0]\n",
    "print('Trace data:' + str(trace.data))"
   ]
  },
  {
   "cell_type": "markdown",
   "metadata": {},
   "source": [
    "**Caveat** When working with lists of objects, like the `query` object above, because `Stream2segment` is designed for massive downloads, it is better to load only each object id, deferring the download of all other attributes upon access: this is what `.options(load_only('id'))` above does (note that \"id\" is an attribute common to all objects types: `Segment` , `Event`, `Station`, and so on).\n",
    "\n",
    "We suggest to use the same approach for loading lists of related objects, e.g.:"
   ]
  },
  {
   "cell_type": "code",
   "execution_count": 19,
   "metadata": {},
   "outputs": [],
   "source": [
    "evt = seg.event\n",
    "# load event related segments (*risk of memory overflow: low):\n",
    "segments = evt.segments.options(load_only('id')).all()\n",
    "\n",
    "cha = seg.channel\n",
    "# load channel related segments (*risk of memory overflow: medium):\n",
    "segments = cha.segments.options(load_only('id')).all()\n",
    "\n",
    "sta = seg.station\n",
    "# load station related segments (*risk of memory overflow: high):\n",
    "segments = sta.segments.options(load_only('id')).all()\n",
    "\n",
    "dct = seg.datacenter\n",
    "# load data center (e.g. IRIS) related segments (*risk of memory overflow: very high):\n",
    "segments = dct.segments.options(load_only('id')).all()"
   ]
  },
  {
   "cell_type": "markdown",
   "metadata": {},
   "source": [
    "\\* The levels of risk reported are just heuristically estimated and have to be considered reliable only relative to each other (an event has almost certainly less related segments than a channel, which has almost certainly less related segments than a station, and so on)\n",
    "\n",
    "***In any case, for really memory consuming or slow tasks, consider moving the Notebook code into a custom Python module and use the command `s2s process`, which is specifically designed to better manage memory and performance***"
   ]
  },
  {
   "cell_type": "code",
   "execution_count": null,
   "metadata": {},
   "outputs": [],
   "source": []
  }
 ],
 "metadata": {
  "kernelspec": {
   "display_name": "Python 3",
   "language": "python",
   "name": "python3"
  },
  "language_info": {
   "codemirror_mode": {
    "name": "ipython",
    "version": 3
   },
   "file_extension": ".py",
   "mimetype": "text/x-python",
   "name": "python",
   "nbconvert_exporter": "python",
   "pygments_lexer": "ipython3",
   "version": "3.8.6"
  }
 },
 "nbformat": 4,
 "nbformat_minor": 2
}
